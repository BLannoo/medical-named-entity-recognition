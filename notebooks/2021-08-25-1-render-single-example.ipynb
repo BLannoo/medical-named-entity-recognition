{
 "cells": [
  {
   "cell_type": "code",
   "execution_count": null,
   "id": "3429db7d-4391-48ca-97c6-4e334f5ba873",
   "metadata": {},
   "outputs": [],
   "source": [
    "from spacy.tokens import Doc\n",
    "import json\n",
    "from pathlib import Path\n",
    "import spacy\n",
    "from spacy import displacy"
   ]
  },
  {
   "cell_type": "code",
   "execution_count": null,
   "id": "cbc60cee-7e8f-4ca3-966e-c324c3d8dff2",
   "metadata": {},
   "outputs": [],
   "source": [
    "!pwd"
   ]
  },
  {
   "cell_type": "code",
   "execution_count": null,
   "id": "9edb32ff-0281-4f03-9e1a-bd85b3b85e4a",
   "metadata": {},
   "outputs": [],
   "source": [
    "def render_all_passages(pubtator_id: str) -> None:\n",
    "    examples = [\n",
    "        json.loads(json_example)\n",
    "        for json_example in Path(\n",
    "            \"../data/raw/pubtator/0to9999/0to999.jsonl\"\n",
    "        ).read_text().split(\"\\n\")\n",
    "        if json_example != \"\"\n",
    "    ]\n",
    "    \n",
    "    example = next(\n",
    "        example\n",
    "        for example in examples\n",
    "        if example[\"id\"] == pubtator_id\n",
    "    )\n",
    "    \n",
    "    nlp = spacy.load(\"en_core_web_sm\")\n",
    "\n",
    "    for idx, passage in enumerate(example[\"passages\"]):\n",
    "        print(f\"\\nPassage {idx=:2}\\n==============\")\n",
    "        doc = nlp(passage[\"text\"])\n",
    "\n",
    "        doc.ents = tuple()\n",
    "\n",
    "        for annotation in passage[\"annotations\"]:\n",
    "            label = annotation[\"infons\"][\"type\"]\n",
    "            start = annotation[\"locations\"][0][\"offset\"] - passage[\"offset\"]\n",
    "            end = start + annotation[\"locations\"][0][\"length\"]\n",
    "            ent_span = doc.char_span(start, end, label=label, alignment_mode=\"expand\")\n",
    "            doc.ents = doc.ents + (ent_span,)\n",
    "\n",
    "        displacy.render(\n",
    "            doc, \n",
    "            style=\"ent\",\n",
    "            options={\n",
    "                \"colors\": {\n",
    "                    \"Chemical\": \"lightgreen\",\n",
    "                    \"Disease\": \"orange\",\n",
    "                }\n",
    "            }\n",
    "        )\n",
    "    \n",
    "render_all_passages(\"999\")"
   ]
  },
  {
   "cell_type": "code",
   "execution_count": null,
   "id": "0f355f8a-0b83-41ad-b817-707bd90cee56",
   "metadata": {},
   "outputs": [],
   "source": []
  }
 ],
 "metadata": {
  "kernelspec": {
   "display_name": "Python 3 (ipykernel)",
   "language": "python",
   "name": "python3"
  },
  "language_info": {
   "codemirror_mode": {
    "name": "ipython",
    "version": 3
   },
   "file_extension": ".py",
   "mimetype": "text/x-python",
   "name": "python",
   "nbconvert_exporter": "python",
   "pygments_lexer": "ipython3",
   "version": "3.9.6"
  }
 },
 "nbformat": 4,
 "nbformat_minor": 5
}
