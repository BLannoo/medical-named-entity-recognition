{
 "cells": [
  {
   "cell_type": "code",
   "execution_count": null,
   "id": "3898aa78-379a-4b4c-a9a5-3d449994d027",
   "metadata": {},
   "outputs": [],
   "source": [
    "from src.definitions import PROJECT_ROOT\n",
    "from pathlib import Path\n",
    "import pandas as pd\n",
    "\n",
    "pd.options.display.max_columns = 99"
   ]
  },
  {
   "cell_type": "code",
   "execution_count": null,
   "id": "167f8558-39af-493b-b0b8-47d0cf4fbca6",
   "metadata": {},
   "outputs": [],
   "source": [
    "df = pd.read_csv(PROJECT_ROOT / \"data/processed/labeled_passages.csv\")\n",
    "\n",
    "df.labels[df.labels == \"B-CellLine\"] = \"O\"\n",
    "df.labels[df.labels == \"I-CellLine\"] = \"O\"\n",
    "df.labels[df.labels == \"B-Mutation\"] = \"O\"\n",
    "df.labels[df.labels == \"I-Mutation\"] = \"O\"\n",
    "\n",
    "df.labels.value_counts()"
   ]
  },
  {
   "cell_type": "code",
   "execution_count": null,
   "id": "b1f77a00-6fd5-4c4d-826a-0bdc0da7b952",
   "metadata": {},
   "outputs": [],
   "source": [
    "df[df.pubtator_id == 79].T"
   ]
  },
  {
   "cell_type": "code",
   "execution_count": null,
   "id": "fecb28ca-a0a2-4bef-89fa-544ee8418578",
   "metadata": {},
   "outputs": [],
   "source": [
    "df.pubtator_id.nunique(), df.words.nunique(), df.POS.nunique(), df.labels.nunique()"
   ]
  },
  {
   "cell_type": "code",
   "execution_count": null,
   "id": "9b42157d-c1f5-43fa-946a-67d9744d0f13",
   "metadata": {},
   "outputs": [],
   "source": [
    "# https://sklearn-crfsuite.readthedocs.io/en/latest/tutorial.html#let-s-use-conll-2002-data-to-build-a-ner-system\n",
    "\n",
    "def word2features(sent, i):\n",
    "    word = str(sent[i][0])\n",
    "    postag = sent[i][1]\n",
    "\n",
    "    features = {\n",
    "        'bias': 1.0,\n",
    "        'word.lower()': word.lower(),\n",
    "        'word[-5:]': word[-5:],\n",
    "        'word[-4:]': word[-4:],\n",
    "        'word[-3:]': word[-3:],\n",
    "        'word[-2:]': word[-2:],\n",
    "        'word[-1:]': word[-1:],\n",
    "        'word.isupper()': word.isupper(),\n",
    "        'word.istitle()': word.istitle(),\n",
    "        'word.isdigit()': word.isdigit(),\n",
    "        'postag': postag,\n",
    "        'postag[:2]': postag[:2],\n",
    "    }\n",
    "    \n",
    "    if i == 0:\n",
    "        features['BOS'] = True\n",
    "    if i == len(sent):\n",
    "        features['EOS'] = True\n",
    "    \n",
    "    for step in (1, 2, 3, 4, 5):\n",
    "        if i > step-1:\n",
    "            word1 = str(sent[i-step][0])\n",
    "            postag1 = sent[i-step][1]\n",
    "            features.update({\n",
    "                f'-{step}:word.lower()': word1.lower(),\n",
    "                f'-{step}:word.istitle()': word1.istitle(),\n",
    "                f'-{step}:word.isupper()': word1.isupper(),\n",
    "                f'-{step}:postag': postag1,\n",
    "                f'-{step}:postag[:2]': postag1[:2],\n",
    "            })\n",
    "\n",
    "        if i < len(sent)-step:\n",
    "            word1 = str(sent[i+step][0])\n",
    "            postag1 = sent[i+step][1]\n",
    "            features.update({\n",
    "                f'+{step}:word.lower()': word1.lower(),\n",
    "                f'+{step}:word.istitle()': word1.istitle(),\n",
    "                f'+{step}:word.isupper()': word1.isupper(),\n",
    "                f'+{step}:postag': postag1,\n",
    "                f'+{step}:postag[:2]': postag1[:2],\n",
    "            })\n",
    "\n",
    "    return features\n",
    "\n",
    "\n",
    "def sent2features(sent):\n",
    "    return [word2features(sent, i) for i in range(len(sent))]\n",
    "\n",
    "def sent2labels(sent):\n",
    "    return [label for token, postag, label in sent]\n",
    "\n",
    "def sent2tokens(sent):\n",
    "    return [token for token, postag, label in sent]"
   ]
  },
  {
   "cell_type": "code",
   "execution_count": null,
   "id": "eae1cf1a-b400-48eb-afd6-6201dafe1f6e",
   "metadata": {},
   "outputs": [],
   "source": [
    "grouped_df = df.groupby(\n",
    "    [\"pubtator_id\", \"passage_id\"]\n",
    ").apply(\n",
    "    lambda s: [\n",
    "        (w, p, t) \n",
    "        for w, p, t in zip(\n",
    "            s['words'].values.tolist(), \n",
    "            s['POS'].values.tolist(), \n",
    "            s['labels'].values.tolist(),\n",
    "        )\n",
    "    ]\n",
    ")\n",
    "\n",
    "passages = list(grouped_df.iloc)\n",
    "\n",
    "grouped_df"
   ]
  },
  {
   "cell_type": "code",
   "execution_count": null,
   "id": "40bbca54-cc14-460e-b734-40c1fbf0e789",
   "metadata": {},
   "outputs": [],
   "source": [
    "from sklearn.model_selection import train_test_split\n",
    "import numpy as np\n",
    "\n",
    "X = np.array([sent2features(s) for s in passages])\n",
    "y = np.array([sent2labels(s) for s in passages])\n",
    "\n",
    "X_train, X_test, y_train, y_test = train_test_split(X, y, test_size=0.25, random_state=42)\n",
    "X_train.shape, X_test.shape"
   ]
  },
  {
   "cell_type": "code",
   "execution_count": null,
   "id": "3a06d2d7-0975-4129-a4c2-652b4a23779c",
   "metadata": {},
   "outputs": [],
   "source": [
    "pd.concat([pd.DataFrame(X_train[1]), pd.DataFrame({'label': y_train[1]})], axis=1)"
   ]
  },
  {
   "cell_type": "code",
   "execution_count": null,
   "id": "2443e628-3021-456a-a2d3-11ef6f18fdcf",
   "metadata": {},
   "outputs": [],
   "source": [
    "import sklearn_crfsuite\n",
    "\n",
    "crf = sklearn_crfsuite.CRF(algorithm='lbfgs',\n",
    "                           c1=0.1,\n",
    "                           c2=0.1,\n",
    "                           max_iterations=150,\n",
    "                           all_possible_transitions=True,\n",
    "                           verbose=True)"
   ]
  },
  {
   "cell_type": "code",
   "execution_count": null,
   "id": "2489c544-8a45-4ae5-9d5e-c785f38e84d0",
   "metadata": {},
   "outputs": [],
   "source": [
    "crf.fit(X_train, y_train)"
   ]
  },
  {
   "cell_type": "code",
   "execution_count": null,
   "id": "81c23a60-f52b-45ab-973f-b1c2e0afdb27",
   "metadata": {},
   "outputs": [],
   "source": [
    "from sklearn_crfsuite import metrics as crf_metrics\n",
    "\n",
    "y_pred = crf.predict(X_test)\n",
    "\n",
    "labels = list(crf.classes_)\n",
    "labels.remove('O')\n",
    "\n",
    "print(crf_metrics.flat_classification_report(y_test, y_pred, labels=labels))"
   ]
  },
  {
   "cell_type": "code",
   "execution_count": null,
   "id": "0367ba5b-b076-4b48-8c80-3eb16ddc43ac",
   "metadata": {},
   "outputs": [],
   "source": []
  }
 ],
 "metadata": {
  "kernelspec": {
   "display_name": "Python 3 (ipykernel)",
   "language": "python",
   "name": "python3"
  },
  "language_info": {
   "codemirror_mode": {
    "name": "ipython",
    "version": 3
   },
   "file_extension": ".py",
   "mimetype": "text/x-python",
   "name": "python",
   "nbconvert_exporter": "python",
   "pygments_lexer": "ipython3",
   "version": "3.9.6"
  }
 },
 "nbformat": 4,
 "nbformat_minor": 5
}
