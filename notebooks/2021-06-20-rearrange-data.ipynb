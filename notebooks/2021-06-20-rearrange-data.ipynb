{
 "cells": [
  {
   "cell_type": "code",
   "execution_count": null,
   "id": "b5e0a3d4-420b-41a0-b7bc-f0294677647c",
   "metadata": {},
   "outputs": [],
   "source": [
    "from src.definitions import PROJECT_ROOT\n",
    "from glob import glob\n",
    "from pathlib import Path\n",
    "import json\n",
    "import spacy\n",
    "import pandas as pd\n",
    "\n",
    "pd.options.display.max_columns = 99"
   ]
  },
  {
   "cell_type": "code",
   "execution_count": null,
   "id": "6ff3488a-be4c-45f4-9443-09c727afc34d",
   "metadata": {},
   "outputs": [],
   "source": [
    "examples = [\n",
    "    json.loads(\n",
    "        Path(path).open().read()\n",
    "    )\n",
    "    for path in glob(str(\n",
    "        PROJECT_ROOT / \"data/test/**/*.json\"\n",
    "    ), recursive=True)\n",
    "]\n",
    "\n",
    "nlp = spacy.load(\"en_core_web_sm\")\n",
    "\n",
    "def parse_passage(passage: dict, pubtator_id: str, passage_id: int):\n",
    "    return pd.DataFrame([\n",
    "        {\n",
    "            \"pubtator_id\": pubtator_id,\n",
    "            \"passage_id\": passage_id,\n",
    "            \"words\": token.text,\n",
    "            \"POS\": token.pos_,\n",
    "            \"labels\": [\n",
    "                annotation[\"infons\"][\"type\"]\n",
    "                for annotation in passage[\"annotations\"]\n",
    "                for location in annotation[\"locations\"]\n",
    "                if location[\"offset\"] == token.idx\n",
    "            ],\n",
    "        }\n",
    "        for token in nlp(passage[\"text\"])\n",
    "    ])\n",
    "\n",
    "df = pd.concat([\n",
    "    parse_passage(passage, example[\"id\"], idx)\n",
    "    for example in examples\n",
    "    for idx, passage in enumerate(example[\"passages\"])\n",
    "    if passage[\"text\"] != \"\"\n",
    "])\n",
    "\n",
    "processed_dir = PROJECT_ROOT / \"data/processed\"\n",
    "processed_dir.mkdir(exist_ok=True)\n",
    "\n",
    "df.to_csv(\n",
    "    PROJECT_ROOT / \"data/processed/notebooks_labeled_passages.csv\",\n",
    "    index=False,\n",
    ")\n",
    "\n",
    "df.T"
   ]
  },
  {
   "cell_type": "code",
   "execution_count": null,
   "id": "095060e7-3911-45d6-a64b-91422b88afa9",
   "metadata": {},
   "outputs": [],
   "source": [
    "df = pd.read_csv(PROJECT_ROOT / \"data/processed/labeled_passages.csv\")\n",
    "\n",
    "df.labels.value_counts()"
   ]
  },
  {
   "cell_type": "code",
   "execution_count": null,
   "id": "e69dcf05-ebc2-40cb-b0ee-1b52beef61b0",
   "metadata": {},
   "outputs": [],
   "source": [
    "df.T"
   ]
  },
  {
   "cell_type": "code",
   "execution_count": null,
   "id": "447027f7-9100-4dbb-8a4c-0d005568549a",
   "metadata": {},
   "outputs": [],
   "source": []
  }
 ],
 "metadata": {
  "kernelspec": {
   "display_name": "Python 3 (ipykernel)",
   "language": "python",
   "name": "python3"
  },
  "language_info": {
   "codemirror_mode": {
    "name": "ipython",
    "version": 3
   },
   "file_extension": ".py",
   "mimetype": "text/x-python",
   "name": "python",
   "nbconvert_exporter": "python",
   "pygments_lexer": "ipython3",
   "version": "3.9.2"
  }
 },
 "nbformat": 4,
 "nbformat_minor": 5
}
