{
 "cells": [
  {
   "cell_type": "code",
   "execution_count": null,
   "id": "99077708-5071-43a6-b390-f5e0ea9f39c0",
   "metadata": {},
   "outputs": [],
   "source": [
    "import joblib\n",
    "\n",
    "crf = joblib.load('../output/ner_model.pkl')"
   ]
  },
  {
   "cell_type": "code",
   "execution_count": null,
   "id": "10184495-7cb3-404b-b737-77ceab4499e2",
   "metadata": {},
   "outputs": [],
   "source": [
    "list(crf.classes_)"
   ]
  },
  {
   "cell_type": "code",
   "execution_count": null,
   "id": "906c3f65-8f0e-434d-890f-e4ca159e9459",
   "metadata": {},
   "outputs": [],
   "source": [
    "from collections import Counter\n",
    "\n",
    "def print_transitions(trans_features):\n",
    "    for (label_from, label_to), weight in trans_features:\n",
    "        print(f\"{label_from:12} -> {label_to:12} {weight:.4f}\")\n",
    "\n",
    "print(\"Top likely transitions:\")\n",
    "print_transitions(Counter(crf.transition_features_).most_common(20))\n",
    "\n",
    "print(\"\\nTop unlikely transitions:\")\n",
    "print_transitions(Counter(crf.transition_features_).most_common()[-20:])\n"
   ]
  },
  {
   "cell_type": "code",
   "execution_count": null,
   "id": "ceec7327-cd0a-4806-aebd-782dac430bec",
   "metadata": {},
   "outputs": [],
   "source": [
    "def print_state_features(state_features):\n",
    "    for (attr, label), weight in state_features:\n",
    "        print(f\"{weight:0.4f} {label:12} {attr}\")\n",
    "\n",
    "print(\"Top positive:\")\n",
    "print_state_features(Counter(crf.state_features_).most_common(30))\n",
    "\n",
    "print(\"\\nTop negative:\")\n",
    "print_state_features(Counter(crf.state_features_).most_common()[-30:])\n"
   ]
  },
  {
   "cell_type": "code",
   "execution_count": null,
   "id": "765c50e6-b675-44fe-a598-f127b2c974e4",
   "metadata": {},
   "outputs": [],
   "source": []
  }
 ],
 "metadata": {
  "kernelspec": {
   "display_name": "Python 3 (ipykernel)",
   "language": "python",
   "name": "python3"
  },
  "language_info": {
   "codemirror_mode": {
    "name": "ipython",
    "version": 3
   },
   "file_extension": ".py",
   "mimetype": "text/x-python",
   "name": "python",
   "nbconvert_exporter": "python",
   "pygments_lexer": "ipython3",
   "version": "3.9.6"
  }
 },
 "nbformat": 4,
 "nbformat_minor": 5
}
